{
 "cells": [
  {
   "cell_type": "code",
   "execution_count": 8,
   "metadata": {},
   "outputs": [],
   "source": [
    "#Import Libaries Data Frame\n",
    "import pandas as pd\n",
    "import seaborn as sb\n",
    "\n",
    "data=pd.read_excel(\"/Users/sheafinkel/Documents/LearningPython/data/Unemployment.xls\", header=7)"
   ]
  },
  {
   "cell_type": "code",
   "execution_count": 7,
   "metadata": {
    "scrolled": true
   },
   "outputs": [
    {
     "name": "stdout",
     "output_type": "stream",
     "text": [
      "<class 'pandas.core.frame.DataFrame'>\n",
      "RangeIndex: 3275 entries, 0 to 3274\n",
      "Data columns (total 56 columns):\n",
      "FIPS                                         3275 non-null int64\n",
      "State                                        3275 non-null object\n",
      "Area_name                                    3275 non-null object\n",
      "Rural_urban_continuum_code_2013              3219 non-null float64\n",
      "Urban_influence_code_2013                    3219 non-null float64\n",
      "Metro_2013                                   3222 non-null float64\n",
      "Civilian_labor_force_2007                    3270 non-null float64\n",
      "Employed_2007                                3270 non-null float64\n",
      "Unemployed_2007                              3270 non-null float64\n",
      "Unemployment_rate_2007                       3270 non-null float64\n",
      "Civilian_labor_force_2008                    3270 non-null float64\n",
      "Employed_2008                                3270 non-null float64\n",
      "Unemployed_2008                              3270 non-null float64\n",
      "Unemployment_rate_2008                       3270 non-null float64\n",
      "Civilian_labor_force_2009                    3270 non-null float64\n",
      "Employed_2009                                3270 non-null float64\n",
      "Unemployed_2009                              3270 non-null float64\n",
      "Unemployment_rate_2009                       3270 non-null float64\n",
      "Civilian_labor_force_2010                    3272 non-null float64\n",
      "Employed_2010                                3272 non-null float64\n",
      "Unemployed_2010                              3272 non-null float64\n",
      "Unemployment_rate_2010                       3272 non-null float64\n",
      "Civilian_labor_force_2011                    3272 non-null float64\n",
      "Employed_2011                                3272 non-null float64\n",
      "Unemployed_2011                              3272 non-null float64\n",
      "Unemployment_rate_2011                       3272 non-null float64\n",
      "Civilian_labor_force_2012                    3272 non-null float64\n",
      "Employed_2012                                3272 non-null float64\n",
      "Unemployed_2012                              3272 non-null float64\n",
      "Unemployment_rate_2012                       3272 non-null float64\n",
      "Civilian_labor_force_2013                    3272 non-null float64\n",
      "Employed_2013                                3272 non-null float64\n",
      "Unemployed_2013                              3272 non-null float64\n",
      "Unemployment_rate_2013                       3272 non-null float64\n",
      "Civilian_labor_force_2014                    3272 non-null float64\n",
      "Employed_2014                                3272 non-null float64\n",
      "Unemployed_2014                              3272 non-null float64\n",
      "Unemployment_rate_2014                       3272 non-null float64\n",
      "Civilian_labor_force_2015                    3272 non-null float64\n",
      "Employed_2015                                3272 non-null float64\n",
      "Unemployed_2015                              3272 non-null float64\n",
      "Unemployment_rate_2015                       3272 non-null float64\n",
      "Civilian_labor_force_2016                    3272 non-null float64\n",
      "Employed_2016                                3272 non-null float64\n",
      "Unemployed_2016                              3272 non-null float64\n",
      "Unemployment_rate_2016                       3272 non-null float64\n",
      "Civilian_labor_force_2017                    3272 non-null float64\n",
      "Employed_2017                                3272 non-null float64\n",
      "Unemployed_2017                              3272 non-null float64\n",
      "Unemployment_rate_2017                       3272 non-null float64\n",
      "Civilian_labor_force_2018                    3272 non-null float64\n",
      "Employed_2018                                3272 non-null float64\n",
      "Unemployed_2018                              3272 non-null float64\n",
      "Unemployment_rate_2018                       3272 non-null float64\n",
      "Median_Household_Income_2017                 3193 non-null float64\n",
      "Med_HH_Income_Percent_of_State_Total_2017    3192 non-null float64\n",
      "dtypes: float64(53), int64(1), object(2)\n",
      "memory usage: 1.4+ MB\n"
     ]
    }
   ],
   "source": [
    "data.info()"
   ]
  },
  {
   "cell_type": "code",
   "execution_count": 12,
   "metadata": {},
   "outputs": [
    {
     "data": {
      "text/plain": [
       "<matplotlib.axes._subplots.AxesSubplot at 0x1a26d557d0>"
      ]
     },
     "execution_count": 12,
     "metadata": {},
     "output_type": "execute_result"
    },
    {
     "data": {
      "image/png": "[encoded data removed]",
      "text/plain": [
       "<Figure size 432x288 with 1 Axes>"
      ]
     },
     "metadata": {
      "needs_background": "light"
     },
     "output_type": "display_data"
    }
   ],
   "source": [
    "unemp_rate_2018 = data.Unemployment_rate_2018\n",
    "unemp_rate_2018 = unemp_rate_2018.dropna()\n",
    "sb.distplot(unemp_rate_2018)"
   ]
  },
  {
   "cell_type": "code",
   "execution_count": null,
   "metadata": {},
   "outputs": [],
   "source": []
  }
 ],
 "metadata": {
  "kernelspec": {
   "display_name": "Python 3",
   "language": "python",
   "name": "python3"
  },
  "language_info": {
   "codemirror_mode": {
    "name": "ipython",
    "version": 3
   },
   "file_extension": ".py",
   "mimetype": "text/x-python",
   "name": "python",
   "nbconvert_exporter": "python",
   "pygments_lexer": "ipython3",
   "version": "3.7.4"
  }
 },
 "nbformat": 4,
 "nbformat_minor": 2
}
