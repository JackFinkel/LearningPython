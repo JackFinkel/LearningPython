{
 "cells": [
  {
   "cell_type": "code",
   "execution_count": 4,
   "metadata": {},
   "outputs": [],
   "source": [
    "#Import Libaries Data Frame\n",
    "import pandas as pd\n",
    "import seaborn as sb\n",
    "\n",
    "data=pd.read_excel(\"data/Unemployment.xls\", header=7)"
   ]
  },
  {
   "cell_type": "code",
   "execution_count": 7,
   "metadata": {
    "scrolled": true
   },
   "outputs": [
    {
     "name": "stdout",
     "output_type": "stream",
     "text": [
      "<class 'pandas.core.frame.DataFrame'>\n",
      "RangeIndex: 3275 entries, 0 to 3274\n",
      "Data columns (total 56 columns):\n",
      "FIPS                                         3275 non-null int64\n",
      "State                                        3275 non-null object\n",
      "Area_name                                    3275 non-null object\n",
      "Rural_urban_continuum_code_2013              3219 non-null float64\n",
      "Urban_influence_code_2013                    3219 non-null float64\n",
      "Metro_2013                                   3222 non-null float64\n",
      "Civilian_labor_force_2007                    3270 non-null float64\n",
      "Employed_2007                                3270 non-null float64\n",
      "Unemployed_2007                              3270 non-null float64\n",
      "Unemployment_rate_2007                       3270 non-null float64\n",
      "Civilian_labor_force_2008                    3270 non-null float64\n",
      "Employed_2008                                3270 non-null float64\n",
      "Unemployed_2008                              3270 non-null float64\n",
      "Unemployment_rate_2008                       3270 non-null float64\n",
      "Civilian_labor_force_2009                    3270 non-null float64\n",
      "Employed_2009                                3270 non-null float64\n",
      "Unemployed_2009                              3270 non-null float64\n",
      "Unemployment_rate_2009                       3270 non-null float64\n",
      "Civilian_labor_force_2010                    3272 non-null float64\n",
      "Employed_2010                                3272 non-null float64\n",
      "Unemployed_2010                              3272 non-null float64\n",
      "Unemployment_rate_2010                       3272 non-null float64\n",
      "Civilian_labor_force_2011                    3272 non-null float64\n",
      "Employed_2011                                3272 non-null float64\n",
      "Unemployed_2011                              3272 non-null float64\n",
      "Unemployment_rate_2011                       3272 non-null float64\n",
      "Civilian_labor_force_2012                    3272 non-null float64\n",
      "Employed_2012                                3272 non-null float64\n",
      "Unemployed_2012                              3272 non-null float64\n",
      "Unemployment_rate_2012                       3272 non-null float64\n",
      "Civilian_labor_force_2013                    3272 non-null float64\n",
      "Employed_2013                                3272 non-null float64\n",
      "Unemployed_2013                              3272 non-null float64\n",
      "Unemployment_rate_2013                       3272 non-null float64\n",
      "Civilian_labor_force_2014                    3272 non-null float64\n",
      "Employed_2014                                3272 non-null float64\n",
      "Unemployed_2014                              3272 non-null float64\n",
      "Unemployment_rate_2014                       3272 non-null float64\n",
      "Civilian_labor_force_2015                    3272 non-null float64\n",
      "Employed_2015                                3272 non-null float64\n",
      "Unemployed_2015                              3272 non-null float64\n",
      "Unemployment_rate_2015                       3272 non-null float64\n",
      "Civilian_labor_force_2016                    3272 non-null float64\n",
      "Employed_2016                                3272 non-null float64\n",
      "Unemployed_2016                              3272 non-null float64\n",
      "Unemployment_rate_2016                       3272 non-null float64\n",
      "Civilian_labor_force_2017                    3272 non-null float64\n",
      "Employed_2017                                3272 non-null float64\n",
      "Unemployed_2017                              3272 non-null float64\n",
      "Unemployment_rate_2017                       3272 non-null float64\n",
      "Civilian_labor_force_2018                    3272 non-null float64\n",
      "Employed_2018                                3272 non-null float64\n",
      "Unemployed_2018                              3272 non-null float64\n",
      "Unemployment_rate_2018                       3272 non-null float64\n",
      "Median_Household_Income_2017                 3193 non-null float64\n",
      "Med_HH_Income_Percent_of_State_Total_2017    3192 non-null float64\n",
      "dtypes: float64(53), int64(1), object(2)\n",
      "memory usage: 1.4+ MB\n"
     ]
    }
   ],
   "source": [
    "data.info()"
   ]
  },
  {
   "cell_type": "code",
   "execution_count": 1,
   "metadata": {},
   "outputs": [
    {
     "ename": "NameError",
     "evalue": "name 'data' is not defined",
     "output_type": "error",
     "traceback": [
      "\u001b[1;31m---------------------------------------------------------------------------\u001b[0m",
      "\u001b[1;31mNameError\u001b[0m                                 Traceback (most recent call last)",
      "\u001b[1;32m<ipython-input-1-480174bdbedf>\u001b[0m in \u001b[0;36m<module>\u001b[1;34m\u001b[0m\n\u001b[1;32m----> 1\u001b[1;33m \u001b[0munemp_rate_20181\u001b[0m \u001b[1;33m=\u001b[0m \u001b[0mdata\u001b[0m\u001b[1;33m.\u001b[0m\u001b[0mUnemployment_rate_2018\u001b[0m\u001b[1;33m\u001b[0m\u001b[1;33m\u001b[0m\u001b[0m\n\u001b[0m\u001b[0;32m      2\u001b[0m \u001b[0munemp_rate_20182\u001b[0m \u001b[1;33m=\u001b[0m \u001b[0munemp_rate_20181\u001b[0m\u001b[1;33m.\u001b[0m\u001b[0mdropna\u001b[0m\u001b[1;33m(\u001b[0m\u001b[1;33m)\u001b[0m\u001b[1;33m\u001b[0m\u001b[1;33m\u001b[0m\u001b[0m\n\u001b[0;32m      3\u001b[0m \u001b[0msb\u001b[0m\u001b[1;33m.\u001b[0m\u001b[0mdistplot\u001b[0m\u001b[1;33m(\u001b[0m\u001b[0munemp_rate_20182\u001b[0m\u001b[1;33m)\u001b[0m\u001b[1;33m\u001b[0m\u001b[1;33m\u001b[0m\u001b[0m\n",
      "\u001b[1;31mNameError\u001b[0m: name 'data' is not defined"
     ]
    }
   ],
   "source": [
    "unemp_rate_20181 = data.Unemployment_rate_2018\n",
    "unemp_rate_20182 = unemp_rate_20181.dropna()\n",
    "sb.distplot(unemp_rate_20182)"
   ]
  },
  {
   "cell_type": "code",
   "execution_count": null,
   "metadata": {},
   "outputs": [],
   "source": []
  }
 ],
 "metadata": {
  "kernelspec": {
   "display_name": "Python 3",
   "language": "python",
   "name": "python3"
  },
  "language_info": {
   "codemirror_mode": {
    "name": "ipython",
    "version": 3
   },
   "file_extension": ".py",
   "mimetype": "text/x-python",
   "name": "python",
   "nbconvert_exporter": "python",
   "pygments_lexer": "ipython3",
   "version": "3.7.4"
  }
 },
 "nbformat": 4,
 "nbformat_minor": 2
}
