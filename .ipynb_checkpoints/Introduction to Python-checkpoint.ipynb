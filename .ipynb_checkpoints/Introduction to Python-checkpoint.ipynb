{
 "cells": [
  {
   "cell_type": "markdown",
   "metadata": {},
   "source": [
    "Documentation: https://docs.python.org/3/"
   ]
  },
  {
   "cell_type": "markdown",
   "metadata": {},
   "source": [
    "## Classes"
   ]
  },
  {
   "cell_type": "markdown",
   "metadata": {},
   "source": [
    "### bool"
   ]
  },
  {
   "cell_type": "code",
   "execution_count": 28,
   "metadata": {},
   "outputs": [
    {
     "name": "stdout",
     "output_type": "stream",
     "text": [
      "False\n"
     ]
    }
   ],
   "source": [
    "b = True\n",
    "b = False\n",
    "print(b)"
   ]
  },
  {
   "cell_type": "markdown",
   "metadata": {},
   "source": [
    "### int"
   ]
  },
  {
   "cell_type": "code",
   "execution_count": 1,
   "metadata": {},
   "outputs": [],
   "source": [
    "x = 1"
   ]
  },
  {
   "cell_type": "markdown",
   "metadata": {},
   "source": [
    "### float"
   ]
  },
  {
   "cell_type": "code",
   "execution_count": null,
   "metadata": {},
   "outputs": [],
   "source": [
    "y = 1233.5091240"
   ]
  },
  {
   "cell_type": "markdown",
   "metadata": {},
   "source": [
    "### string\n",
    "double quotes and single quotes are the same \n"
   ]
  },
  {
   "cell_type": "code",
   "execution_count": 2,
   "metadata": {},
   "outputs": [],
   "source": [
    "word = \"hi\"\n",
    "word = 'hi'"
   ]
  },
  {
   "cell_type": "markdown",
   "metadata": {},
   "source": [
    "### Conversion"
   ]
  },
  {
   "cell_type": "code",
   "execution_count": 35,
   "metadata": {},
   "outputs": [
    {
     "name": "stdout",
     "output_type": "stream",
     "text": [
      "<class 'int'>\n",
      "<class 'str'>\n"
     ]
    }
   ],
   "source": [
    "string = \"123\"\n",
    "integer = int(string)\n",
    "print(type(integer))\n",
    "print(type(string))"
   ]
  },
  {
   "cell_type": "markdown",
   "metadata": {},
   "source": [
    "### list\n",
    "hetergenous type (any data type)\n",
    "\n",
    "List[index] is the element at the index in the list List"
   ]
  },
  {
   "cell_type": "code",
   "execution_count": 3,
   "metadata": {},
   "outputs": [],
   "source": [
    "l = [True,2,\"word\",4,5.0]"
   ]
  },
  {
   "cell_type": "markdown",
   "metadata": {},
   "source": [
    "2d list"
   ]
  },
  {
   "cell_type": "code",
   "execution_count": 6,
   "metadata": {},
   "outputs": [
    {
     "name": "stdout",
     "output_type": "stream",
     "text": [
      "[[1, 2, 3], [4, 5, 6], [7, 8, 9]]\n",
      "[4, 5, 6]\n"
     ]
    }
   ],
   "source": [
    "l_2d = [[1,2,3],[4,5,6],[7,8,9]]\n",
    "print(l_2d)\n",
    "print(l_2d[1])"
   ]
  },
  {
   "cell_type": "markdown",
   "metadata": {},
   "source": [
    "Indexing - can only be slices or indexes\n",
    "\n",
    "Index in the form of slices (beginIndex:endIndex:step)\n",
    "\n",
    "If not specified, the values are:\n",
    "    \n",
    "    beginIndex = 0\n",
    "    \n",
    "    endIndex = len(list)\n",
    "\n",
    "    step = 1 "
   ]
  },
  {
   "cell_type": "code",
   "execution_count": 43,
   "metadata": {
    "scrolled": true
   },
   "outputs": [
    {
     "name": "stdout",
     "output_type": "stream",
     "text": [
      "[1, 4, 7, 10]\n",
      "[8, 9, 10]\n"
     ]
    }
   ],
   "source": [
    "l = [1,2,3,4,5,6,7,8,9,10,11]\n",
    "beginIndex = 0 # inclusive at element of begin index\n",
    "endIndex = len(l) # exclusive of element at end index\n",
    "step = 3 # how much you increase your index by\n",
    "print(l[beginIndex:endIndex:step])\n",
    "\n",
    "reverseBeginIndex = -4\n",
    "reverseEndIndex = -1\n",
    "print(l[reverseBeginIndex:reverseEndIndex])"
   ]
  },
  {
   "cell_type": "markdown",
   "metadata": {},
   "source": [
    "Can change lists"
   ]
  },
  {
   "cell_type": "code",
   "execution_count": 45,
   "metadata": {},
   "outputs": [
    {
     "name": "stdout",
     "output_type": "stream",
     "text": [
      "[1, 2, -1, 4, 5, 1, 1, 1]\n",
      "[1, 2, -1, 4, 5, 1, 1, 1]\n"
     ]
    }
   ],
   "source": [
    "l[2] = -1\n",
    "print(l)\n",
    "l[5:] = [1,1,1]\n",
    "print(l)"
   ]
  },
  {
   "cell_type": "markdown",
   "metadata": {},
   "source": [
    "## Functions\n",
    "### General Functions\n",
    "Functions have three parts.\n",
    "1. The input\n",
    "2. The algorithm that converts the input to the output\n",
    "3. The output\n",
    "\n",
    "Functions are indicated by their use of parentheses. Input goes into the parentheses."
   ]
  },
  {
   "cell_type": "code",
   "execution_count": 83,
   "metadata": {},
   "outputs": [
    {
     "name": "stdout",
     "output_type": "stream",
     "text": [
      "[1, 2, 3]\n",
      "3\n",
      "1\n",
      "Help on built-in function max in module builtins:\n",
      "\n",
      "max(...)\n",
      "    max(iterable, *[, default=obj, key=func]) -> value\n",
      "    max(arg1, arg2, *args, *[, key=func]) -> value\n",
      "    \n",
      "    With a single iterable argument, return its biggest item. The\n",
      "    default keyword-only argument specifies an object to return if\n",
      "    the provided iterable is empty.\n",
      "    With two or more arguments, return the largest argument.\n",
      "\n",
      "None\n"
     ]
    },
    {
     "data": {
      "text/plain": [
       "8"
      ]
     },
     "execution_count": 83,
     "metadata": {},
     "output_type": "execute_result"
    }
   ],
   "source": [
    "l = [1,2,3]\n",
    "\n",
    "#function l\n",
    "#input - l\n",
    "#algorithm - find the length of the data structure, or in this case, the list, l\n",
    "#output - the length of the data structure, an integer\n",
    "length_of_l = len(l)\n",
    "\n",
    "print(l) #input - anything\n",
    "type(l) #input - anything\n",
    "print(max(l))\n",
    "print(min(l))\n",
    "print(help(max))\n",
    "max(1,2,3,4,5,6,7,8)"
   ]
  },
  {
   "cell_type": "markdown",
   "metadata": {},
   "source": [
    "### Defining our own Functions\n",
    "To define our own function, we must use the following structure:\n",
    "\n",
    "def function_name(...any_number_of_inputs...):\n",
    "\n",
    "    ...algorithm...\n",
    "    \n",
    "    return(...any_number_of_output...)"
   ]
  },
  {
   "cell_type": "code",
   "execution_count": 84,
   "metadata": {},
   "outputs": [],
   "source": [
    "#function_add\n",
    "#input - input_x, input_y\n",
    "#output - input_x +input_y\n",
    "def function_add(input_x,input_y):\n",
    "    output_sum = input_x + input_y\n",
    "    return(output_sum)\n",
    "    \n",
    "def function_random(x1,x2,x3):\n",
    "    y1 = x1*x2\n",
    "    y2 = y1+x3\n",
    "    return([y1,y2])\n",
    "\n",
    "def function_no_inputs_or_outputs():\n",
    "    print(\"hahaha\")\n",
    "    return()\n",
    "\n",
    "def function_unlimited_inputs(*inputs):\n",
    "    output = sum(inputs)\n",
    "    return(output)"
   ]
  },
  {
   "cell_type": "code",
   "execution_count": 85,
   "metadata": {},
   "outputs": [
    {
     "data": {
      "text/plain": [
       "17"
      ]
     },
     "execution_count": 85,
     "metadata": {},
     "output_type": "execute_result"
    }
   ],
   "source": [
    "function_unlimited_inputs(1,2,3,4,1,1,1,2,2)"
   ]
  },
  {
   "cell_type": "markdown",
   "metadata": {},
   "source": [
    "### Functions of classes\n",
    "Functions that are callable on an object are denoted by using a period ('.') after the variable name, followed by the function name, followed by the input in parentheses.\n"
   ]
  },
  {
   "cell_type": "code",
   "execution_count": 94,
   "metadata": {},
   "outputs": [
    {
     "name": "stdout",
     "output_type": "stream",
     "text": [
      "['a', 'b', 'c']\n",
      "['d', 'a', 'b', 'c']\n"
     ]
    }
   ],
   "source": [
    "#list functions\n",
    "l = ['a', 'b', 'c']\n",
    "print(l)\n",
    "l.insert(0,'d')\n",
    "print(l)\n",
    "\n",
    "a = 3\n",
    "#a.insert(0,'d')   - error"
   ]
  },
  {
   "cell_type": "code",
   "execution_count": 95,
   "metadata": {},
   "outputs": [],
   "source": [
    "class People:\n",
    "    # constructor function\n",
    "    def __init__(self,age):\n",
    "        #member variable (indicated by period followed by variable name)\n",
    "        self.age = age\n",
    "        \n",
    "    # member function (indiciated by period followed by function name)\n",
    "    def get_age(self):\n",
    "        return(self.age)"
   ]
  },
  {
   "cell_type": "code",
   "execution_count": 96,
   "metadata": {},
   "outputs": [],
   "source": [
    "Shea = People(16)\n",
    "Shea.get_age()\n",
    "\n",
    "l = [1,2,3]\n",
    "# l.get_age()  - error"
   ]
  },
  {
   "cell_type": "markdown",
   "metadata": {},
   "source": [
    "## Logic and Flow"
   ]
  },
  {
   "cell_type": "code",
   "execution_count": 105,
   "metadata": {},
   "outputs": [
    {
     "name": "stdout",
     "output_type": "stream",
     "text": [
      "neither x1 nor x2 are true\n"
     ]
    }
   ],
   "source": [
    "x1 = False\n",
    "x2 = False\n",
    "if(x1):\n",
    "    print(\"x1 was true\")\n",
    "#only print if \"if\" failed\n",
    "elif(x2):\n",
    "    print(\"x1 was not true. x2 is true\")\n",
    "elif(x2):\n",
    "    print(\"x1 was not true. x2 is true\")\n",
    "elif(x2):\n",
    "    print(\"x1 was not true. x2 is true\")\n",
    "#printed if everything failed\n",
    "else:\n",
    "    print(\"neither x1 nor x2 are true\")"
   ]
  },
  {
   "cell_type": "code",
   "execution_count": 111,
   "metadata": {},
   "outputs": [
    {
     "name": "stdout",
     "output_type": "stream",
     "text": [
      "loop 1 - iterate through data structure\n",
      "2\n",
      "4\n",
      "6\n",
      "loop 2 - run loop set number of times\n",
      "hi\n",
      "hi\n",
      "hi\n",
      "hi\n",
      "hi\n",
      "hi\n",
      "hi\n",
      "hi\n",
      "hi\n",
      "hi\n"
     ]
    }
   ],
   "source": [
    "l = [1,2,3,4,5,6]\n",
    "print(\"loop 1 - iterate through data structure\")\n",
    "for element in l:\n",
    "    #even elements\n",
    "    if(element % 2 == 0):\n",
    "        print(element)\n",
    "        \n",
    "print(\"loop 2 - run loop set number of times\")\n",
    "for i in range(10):\n",
    "    print(\"hi\")"
   ]
  }
 ],
 "metadata": {
  "kernelspec": {
   "display_name": "Python 3",
   "language": "python",
   "name": "python3"
  },
  "language_info": {
   "codemirror_mode": {
    "name": "ipython",
    "version": 3
   },
   "file_extension": ".py",
   "mimetype": "text/x-python",
   "name": "python",
   "nbconvert_exporter": "python",
   "pygments_lexer": "ipython3",
   "version": "3.7.4"
  }
 },
 "nbformat": 4,
 "nbformat_minor": 2
}
