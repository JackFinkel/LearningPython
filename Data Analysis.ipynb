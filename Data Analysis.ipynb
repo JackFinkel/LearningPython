{
 "cells": [
  {
   "cell_type": "code",
   "execution_count": 59,
   "metadata": {},
   "outputs": [],
   "source": [
    "#Import Libaries Data Frame\n",
    "import pandas as pd\n",
    "import seaborn as sb\n",
    "\n",
    "\n",
    "# unemployment data\n",
    "unemp_data=pd.read_excel(\"data/Unemployment.xls\", header=7)\n",
    "# population data\n",
    "pop_data=pd.read_excel(\"data/PopulationEstimates.xls\", header=2)"
   ]
  },
  {
   "cell_type": "code",
   "execution_count": 64,
   "metadata": {
    "scrolled": true
   },
   "outputs": [
    {
     "name": "stdout",
     "output_type": "stream",
     "text": [
      "<class 'pandas.core.frame.DataFrame'>\n",
      "RangeIndex: 3273 entries, 0 to 3272\n",
      "Data columns (total 149 columns):\n",
      "FIPS                               int64\n",
      "State                              object\n",
      "Area_Name                          object\n",
      "Rural-urban_Continuum Code_2003    float64\n",
      "Rural-urban_Continuum Code_2013    float64\n",
      "Urban_Influence_Code_2003          float64\n",
      "Urban_Influence_Code_2013          float64\n",
      "Economic_typology_2015             float64\n",
      "CENSUS_2010_POP                    int64\n",
      "ESTIMATES_BASE_2010                int64\n",
      "POP_ESTIMATE_2010                  int64\n",
      "POP_ESTIMATE_2011                  int64\n",
      "POP_ESTIMATE_2012                  int64\n",
      "POP_ESTIMATE_2013                  int64\n",
      "POP_ESTIMATE_2014                  int64\n",
      "POP_ESTIMATE_2015                  int64\n",
      "POP_ESTIMATE_2016                  int64\n",
      "POP_ESTIMATE_2017                  int64\n",
      "POP_ESTIMATE_2018                  int64\n",
      "N_POP_CHG_2010                     float64\n",
      "N_POP_CHG_2011                     float64\n",
      "N_POP_CHG_2012                     float64\n",
      "N_POP_CHG_2013                     float64\n",
      "N_POP_CHG_2014                     float64\n",
      "N_POP_CHG_2015                     float64\n",
      "N_POP_CHG_2016                     float64\n",
      "N_POP_CHG_2017                     float64\n",
      "N_POP_CHG_2018                     float64\n",
      "Births_2010                        float64\n",
      "Births_2011                        float64\n",
      "Births_2012                        float64\n",
      "Births_2013                        float64\n",
      "Births_2014                        float64\n",
      "Births_2015                        float64\n",
      "Births_2016                        float64\n",
      "Births_2017                        float64\n",
      "Births_2018                        float64\n",
      "Deaths_2010                        float64\n",
      "Deaths_2011                        float64\n",
      "Deaths_2012                        float64\n",
      "Deaths_2013                        float64\n",
      "Deaths_2014                        float64\n",
      "Deaths_2015                        float64\n",
      "Deaths_2016                        float64\n",
      "Deaths_2017                        float64\n",
      "Deaths_2018                        float64\n",
      "NATURAL_INC_2010                   float64\n",
      "NATURAL_INC_2011                   float64\n",
      "NATURAL_INC_2012                   float64\n",
      "NATURAL_INC_2013                   float64\n",
      "NATURAL_INC_2014                   float64\n",
      "NATURAL_INC_2015                   float64\n",
      "NATURAL_INC_2016                   float64\n",
      "NATURAL_INC_2017                   float64\n",
      "NATURAL_INC_2018                   float64\n",
      "INTERNATIONAL_MIG_2010             float64\n",
      "INTERNATIONAL_MIG_2011             float64\n",
      "INTERNATIONAL_MIG_2012             float64\n",
      "INTERNATIONAL_MIG_2013             float64\n",
      "INTERNATIONAL_MIG_2014             float64\n",
      "INTERNATIONAL_MIG_2015             float64\n",
      "INTERNATIONAL_MIG_2016             float64\n",
      "INTERNATIONAL_MIG_2017             float64\n",
      "INTERNATIONAL_MIG_2018             float64\n",
      "DOMESTIC_MIG_2010                  float64\n",
      "DOMESTIC_MIG_2011                  float64\n",
      "DOMESTIC_MIG_2012                  float64\n",
      "DOMESTIC_MIG_2013                  float64\n",
      "DOMESTIC_MIG_2014                  float64\n",
      "DOMESTIC_MIG_2015                  float64\n",
      "DOMESTIC_MIG_2016                  float64\n",
      "DOMESTIC_MIG_2017                  float64\n",
      "DOMESTIC_MIG_2018                  float64\n",
      "NET_MIG_2010                       float64\n",
      "NET_MIG_2011                       float64\n",
      "NET_MIG_2012                       float64\n",
      "NET_MIG_2013                       float64\n",
      "NET_MIG_2014                       float64\n",
      "NET_MIG_2015                       float64\n",
      "NET_MIG_2016                       float64\n",
      "NET_MIG_2017                       float64\n",
      "NET_MIG_2018                       float64\n",
      "RESIDUAL_2010                      float64\n",
      "RESIDUAL_2011                      float64\n",
      "RESIDUAL_2012                      float64\n",
      "RESIDUAL_2013                      float64\n",
      "RESIDUAL_2014                      float64\n",
      "RESIDUAL_2015                      float64\n",
      "RESIDUAL_2016                      float64\n",
      "RESIDUAL_2017                      float64\n",
      "RESIDUAL_2018                      float64\n",
      "GQ_ESTIMATES_BASE_2010             float64\n",
      "GQ_ESTIMATES_2010                  float64\n",
      "GQ_ESTIMATES_2011                  float64\n",
      "GQ_ESTIMATES_2012                  float64\n",
      "GQ_ESTIMATES_2013                  float64\n",
      "GQ_ESTIMATES_2014                  float64\n",
      "GQ_ESTIMATES_2015                  float64\n",
      "GQ_ESTIMATES_2016                  float64\n",
      "GQ_ESTIMATES_2017                  float64\n",
      "GQ_ESTIMATES_2018                  float64\n",
      "R_birth_2011                       float64\n",
      "R_birth_2012                       float64\n",
      "R_birth_2013                       float64\n",
      "R_birth_2014                       float64\n",
      "R_birth_2015                       float64\n",
      "R_birth_2016                       float64\n",
      "R_birth_2017                       float64\n",
      "R_birth_2018                       float64\n",
      "R_death_2011                       float64\n",
      "R_death_2012                       float64\n",
      "R_death_2013                       float64\n",
      "R_death_2014                       float64\n",
      "R_death_2015                       float64\n",
      "R_death_2016                       float64\n",
      "R_death_2017                       float64\n",
      "R_death_2018                       float64\n",
      "R_NATURAL_INC_2011                 float64\n",
      "R_NATURAL_INC_2012                 float64\n",
      "R_NATURAL_INC_2013                 float64\n",
      "R_NATURAL_INC_2014                 float64\n",
      "R_NATURAL_INC_2015                 float64\n",
      "R_NATURAL_INC_2016                 float64\n",
      "R_NATURAL_INC_2017                 float64\n",
      "R_NATURAL_INC_2018                 float64\n",
      "R_INTERNATIONAL_MIG_2011           float64\n",
      "R_INTERNATIONAL_MIG_2012           float64\n",
      "R_INTERNATIONAL_MIG_2013           float64\n",
      "R_INTERNATIONAL_MIG_2014           float64\n",
      "R_INTERNATIONAL_MIG_2015           float64\n",
      "R_INTERNATIONAL_MIG_2016           float64\n",
      "R_INTERNATIONAL_MIG_2017           float64\n",
      "R_INTERNATIONAL_MIG_2018           float64\n",
      "R_DOMESTIC_MIG_2011                float64\n",
      "R_DOMESTIC_MIG_2012                float64\n",
      "R_DOMESTIC_MIG_2013                float64\n",
      "R_DOMESTIC_MIG_2014                float64\n",
      "R_DOMESTIC_MIG_2015                float64\n",
      "R_DOMESTIC_MIG_2016                float64\n",
      "R_DOMESTIC_MIG_2017                float64\n",
      "R_DOMESTIC_MIG_2018                float64\n",
      "R_NET_MIG_2011                     float64\n",
      "R_NET_MIG_2012                     float64\n",
      "R_NET_MIG_2013                     float64\n",
      "R_NET_MIG_2014                     float64\n",
      "R_NET_MIG_2015                     float64\n",
      "R_NET_MIG_2016                     float64\n",
      "R_NET_MIG_2017                     float64\n",
      "R_NET_MIG_2018                     float64\n",
      "dtypes: float64(135), int64(12), object(2)\n",
      "memory usage: 3.7+ MB\n",
      "None\n"
     ]
    }
   ],
   "source": [
    "#unemp_data.info()\n",
    "print(pop_data.info(verbose = True))\n"
   ]
  },
  {
   "cell_type": "markdown",
   "metadata": {},
   "source": [
    "## Analysis of Unemployment Rate in 2018"
   ]
  },
  {
   "cell_type": "code",
   "execution_count": 50,
   "metadata": {},
   "outputs": [
    {
     "name": "stdout",
     "output_type": "stream",
     "text": [
      "Description of Unemployment Rate:\n",
      "count    3272.000000\n",
      "mean        4.296608\n",
      "std         1.884719\n",
      "min         1.300000\n",
      "5%          2.400000\n",
      "10%         2.600000\n",
      "25%         3.175000\n",
      "50%         3.900000\n",
      "75%         4.900000\n",
      "90%         6.100000\n",
      "95%         7.345000\n",
      "max        19.900000\n",
      "Name: Unemployment_rate_2018, dtype: float64 \n",
      "\n",
      "\n",
      "Text(0.5, 1.0, 'Distribution of Unemployment Rate in 2018')\n"
     ]
    },
    {
     "data": {
      "image/png": "[encoded data removed]",
      "text/plain": [
       "<Figure size 432x288 with 1 Axes>"
      ]
     },
     "metadata": {
      "needs_background": "light"
     },
     "output_type": "display_data"
    }
   ],
   "source": [
    "# Analysis\n",
    "print(\"Description of Unemployment Rate:\")\n",
    "print(unemp_data.Unemployment_rate_2018.describe(percentiles=[.05,.1,.25, .5, .75,.9,.95]),\"\\n\\n\")\n",
    "\n",
    "# Visualization\n",
    "print(sb.distplot(unemp_data.Unemployment_rate_2018.dropna(),axlabel=\"Unemployment Rate\").set_title(\"Distribution of Unemployment Rate in 2018\"))"
   ]
  },
  {
   "cell_type": "markdown",
   "metadata": {},
   "source": [
    "## Population in 2018"
   ]
  },
  {
   "cell_type": "code",
   "execution_count": 85,
   "metadata": {},
   "outputs": [
    {
     "name": "stdout",
     "output_type": "stream",
     "text": [
      "Description of Population:\n",
      "count    3.220000e+03\n",
      "mean     1.025971e+05\n",
      "std      3.296352e+05\n",
      "min      8.800000e+01\n",
      "5%       2.839800e+03\n",
      "10%      5.167300e+03\n",
      "25%      1.113600e+04\n",
      "50%      2.606350e+04\n",
      "75%      6.701325e+04\n",
      "90%      2.075025e+05\n",
      "95%      4.358621e+05\n",
      "max      1.010552e+07\n",
      "Name: POP_ESTIMATE_2018, dtype: float64 \n",
      "\n",
      "\n"
     ]
    },
    {
     "data": {
      "text/plain": [
       "Text(0.5, 1.0, 'Distribution of Population in 2018')"
      ]
     },
     "execution_count": 85,
     "metadata": {},
     "output_type": "execute_result"
    },
    {
     "data": {
      "image/png": "[encoded data removed]",
      "text/plain": [
       "<Figure size 432x288 with 1 Axes>"
      ]
     },
     "metadata": {
      "needs_background": "light"
     },
     "output_type": "display_data"
    }
   ],
   "source": [
    "pop2018 = pop_data.POP_ESTIMATE_2018[pop_data.FIPS%1000 != 0]\n",
    "\n",
    "# Analysis\n",
    "print(\"Description of Population:\")\n",
    "print(pop2018.describe(percentiles=[.05,.1,.25, .5, .75,.9,.95]),\"\\n\\n\")\n",
    "\n",
    "# Visualization\n",
    "sb.distplot(pop2018.dropna(),axlabel=\"Population\").set_title(\"Distribution of Population in 2018\")"
   ]
  },
  {
   "cell_type": "markdown",
   "metadata": {},
   "source": [
    "## Population Change in 2018"
   ]
  },
  {
   "cell_type": "code",
   "execution_count": 86,
   "metadata": {},
   "outputs": [
    {
     "name": "stdout",
     "output_type": "stream",
     "text": [
      "Description of Population Change:\n",
      "count     3142.000000\n",
      "mean       643.002228\n",
      "std       3133.910327\n",
      "min     -24009.000000\n",
      "5%        -405.950000\n",
      "10%       -237.900000\n",
      "25%        -78.000000\n",
      "50%         20.000000\n",
      "75%        299.750000\n",
      "90%       1679.900000\n",
      "95%       3851.450000\n",
      "max      81244.000000\n",
      "Name: N_POP_CHG_2018, dtype: float64 \n",
      "\n",
      "\n"
     ]
    },
    {
     "data": {
      "text/plain": [
       "Text(0.5, 1.0, 'Distribution of Population Change in 2018')"
      ]
     },
     "execution_count": 86,
     "metadata": {},
     "output_type": "execute_result"
    },
    {
     "data": {
      "image/png": "[encoded data removed]",
      "text/plain": [
       "<Figure size 432x288 with 1 Axes>"
      ]
     },
     "metadata": {
      "needs_background": "light"
     },
     "output_type": "display_data"
    }
   ],
   "source": [
    "pop_change2018 = pop_data.N_POP_CHG_2018[pop_data.FIPS%1000 != 0]\n",
    "\n",
    "# Analysis\n",
    "print(\"Description of Population Change:\")\n",
    "print(pop_change2018.describe(percentiles=[.05,.1,.25, .5, .75,.9,.95]),\"\\n\\n\")\n",
    "\n",
    "# Visualization\n",
    "sb.distplot(pop_change2018.dropna(),axlabel=\"Population Change\").set_title(\"Distribution of Population Change in 2018\")"
   ]
  }
 ],
 "metadata": {
  "kernelspec": {
   "display_name": "Python 3",
   "language": "python",
   "name": "python3"
  },
  "language_info": {
   "codemirror_mode": {
    "name": "ipython",
    "version": 3
   },
   "file_extension": ".py",
   "mimetype": "text/x-python",
   "name": "python",
   "nbconvert_exporter": "python",
   "pygments_lexer": "ipython3",
   "version": "3.7.4"
  }
 },
 "nbformat": 4,
 "nbformat_minor": 2
}
